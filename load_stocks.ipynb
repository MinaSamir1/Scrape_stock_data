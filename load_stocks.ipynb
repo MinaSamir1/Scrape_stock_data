{
 "cells": [
  {
   "cell_type": "code",
   "execution_count": 1,
   "metadata": {},
   "outputs": [],
   "source": [
    "from glob import glob\n",
    "import pandas as pd\n",
    "from datetime import datetime"
   ]
  },
  {
   "cell_type": "code",
   "execution_count": 34,
   "metadata": {},
   "outputs": [
    {
     "name": "stdout",
     "output_type": "stream",
     "text": [
      "15\n"
     ]
    }
   ],
   "source": [
    "all_files = glob('stock_data/*')\n",
    "print(len(all_files))\n",
    "all_data = [pd.read_csv(i) for i in all_files]\n",
    "data = pd.concat(all_data)"
   ]
  },
  {
   "cell_type": "code",
   "execution_count": 35,
   "metadata": {},
   "outputs": [
    {
     "data": {
      "text/plain": [
       "'2023-08-26 09:14:15'"
      ]
     },
     "execution_count": 35,
     "metadata": {},
     "output_type": "execute_result"
    }
   ],
   "source": [
    "datetime.fromtimestamp(data['t'].min()).strftime('%Y-%m-%d %H:%M:%S')"
   ]
  },
  {
   "cell_type": "code",
   "execution_count": 18,
   "metadata": {},
   "outputs": [
    {
     "data": {
      "text/plain": [
       "0"
      ]
     },
     "execution_count": 18,
     "metadata": {},
     "output_type": "execute_result"
    }
   ],
   "source": [
    "data.duplicated().sum()"
   ]
  },
  {
   "cell_type": "code",
   "execution_count": 19,
   "metadata": {},
   "outputs": [
    {
     "data": {
      "text/plain": [
       "\"for row in data.iterrows():\\n    print(datetime.fromtimestamp(row[0]).strftime('%Y-%m-%d %H:%M:%S'))\\n\""
      ]
     },
     "execution_count": 19,
     "metadata": {},
     "output_type": "execute_result"
    }
   ],
   "source": [
    "'''for row in data.iterrows():\n",
    "    print(datetime.fromtimestamp(row[0]).strftime('%Y-%m-%d %H:%M:%S'))\n",
    "'''"
   ]
  },
  {
   "cell_type": "code",
   "execution_count": 2,
   "metadata": {},
   "outputs": [],
   "source": [
    "backup_data = pd.read_csv('stock_data.csv')"
   ]
  },
  {
   "cell_type": "code",
   "execution_count": 24,
   "metadata": {},
   "outputs": [
    {
     "data": {
      "text/plain": [
       "'2023-08-27 14:21:20'"
      ]
     },
     "execution_count": 24,
     "metadata": {},
     "output_type": "execute_result"
    }
   ],
   "source": [
    "datetime.fromtimestamp(backup_data['t'].max()).strftime('%Y-%m-%d %H:%M:%S')"
   ]
  },
  {
   "cell_type": "code",
   "execution_count": 25,
   "metadata": {},
   "outputs": [
    {
     "data": {
      "text/html": [
       "<div>\n",
       "<style scoped>\n",
       "    .dataframe tbody tr th:only-of-type {\n",
       "        vertical-align: middle;\n",
       "    }\n",
       "\n",
       "    .dataframe tbody tr th {\n",
       "        vertical-align: top;\n",
       "    }\n",
       "\n",
       "    .dataframe thead th {\n",
       "        text-align: right;\n",
       "    }\n",
       "</style>\n",
       "<table border=\"1\" class=\"dataframe\">\n",
       "  <thead>\n",
       "    <tr style=\"text-align: right;\">\n",
       "      <th></th>\n",
       "      <th>t</th>\n",
       "      <th>open</th>\n",
       "      <th>low</th>\n",
       "      <th>high</th>\n",
       "      <th>close</th>\n",
       "    </tr>\n",
       "  </thead>\n",
       "  <tbody>\n",
       "    <tr>\n",
       "      <th>0</th>\n",
       "      <td>1656620950</td>\n",
       "      <td>7691.00</td>\n",
       "      <td>7690.90</td>\n",
       "      <td>7691.03</td>\n",
       "      <td>7690.96</td>\n",
       "    </tr>\n",
       "    <tr>\n",
       "      <th>1</th>\n",
       "      <td>1656620945</td>\n",
       "      <td>7690.90</td>\n",
       "      <td>7690.90</td>\n",
       "      <td>7691.01</td>\n",
       "      <td>7691.01</td>\n",
       "    </tr>\n",
       "    <tr>\n",
       "      <th>2</th>\n",
       "      <td>1656620940</td>\n",
       "      <td>7690.97</td>\n",
       "      <td>7690.86</td>\n",
       "      <td>7690.97</td>\n",
       "      <td>7690.88</td>\n",
       "    </tr>\n",
       "    <tr>\n",
       "      <th>3</th>\n",
       "      <td>1656620935</td>\n",
       "      <td>7690.87</td>\n",
       "      <td>7690.87</td>\n",
       "      <td>7690.98</td>\n",
       "      <td>7690.98</td>\n",
       "    </tr>\n",
       "    <tr>\n",
       "      <th>4</th>\n",
       "      <td>1656620930</td>\n",
       "      <td>7690.79</td>\n",
       "      <td>7690.79</td>\n",
       "      <td>7690.88</td>\n",
       "      <td>7690.88</td>\n",
       "    </tr>\n",
       "    <tr>\n",
       "      <th>...</th>\n",
       "      <td>...</td>\n",
       "      <td>...</td>\n",
       "      <td>...</td>\n",
       "      <td>...</td>\n",
       "      <td>...</td>\n",
       "    </tr>\n",
       "    <tr>\n",
       "      <th>8186995</th>\n",
       "      <td>1656623975</td>\n",
       "      <td>7688.89</td>\n",
       "      <td>7688.79</td>\n",
       "      <td>7688.89</td>\n",
       "      <td>7688.79</td>\n",
       "    </tr>\n",
       "    <tr>\n",
       "      <th>8186996</th>\n",
       "      <td>1656623970</td>\n",
       "      <td>7688.77</td>\n",
       "      <td>7688.73</td>\n",
       "      <td>7688.89</td>\n",
       "      <td>7688.89</td>\n",
       "    </tr>\n",
       "    <tr>\n",
       "      <th>8186997</th>\n",
       "      <td>1656623965</td>\n",
       "      <td>7688.73</td>\n",
       "      <td>7688.72</td>\n",
       "      <td>7688.79</td>\n",
       "      <td>7688.73</td>\n",
       "    </tr>\n",
       "    <tr>\n",
       "      <th>8186998</th>\n",
       "      <td>1656623960</td>\n",
       "      <td>7688.78</td>\n",
       "      <td>7688.72</td>\n",
       "      <td>7688.78</td>\n",
       "      <td>7688.73</td>\n",
       "    </tr>\n",
       "    <tr>\n",
       "      <th>8186999</th>\n",
       "      <td>1656623955</td>\n",
       "      <td>7688.92</td>\n",
       "      <td>7688.74</td>\n",
       "      <td>7688.92</td>\n",
       "      <td>7688.74</td>\n",
       "    </tr>\n",
       "  </tbody>\n",
       "</table>\n",
       "<p>8187000 rows × 5 columns</p>\n",
       "</div>"
      ],
      "text/plain": [
       "                  t     open      low     high    close\n",
       "0        1656620950  7691.00  7690.90  7691.03  7690.96\n",
       "1        1656620945  7690.90  7690.90  7691.01  7691.01\n",
       "2        1656620940  7690.97  7690.86  7690.97  7690.88\n",
       "3        1656620935  7690.87  7690.87  7690.98  7690.98\n",
       "4        1656620930  7690.79  7690.79  7690.88  7690.88\n",
       "...             ...      ...      ...      ...      ...\n",
       "8186995  1656623975  7688.89  7688.79  7688.89  7688.79\n",
       "8186996  1656623970  7688.77  7688.73  7688.89  7688.89\n",
       "8186997  1656623965  7688.73  7688.72  7688.79  7688.73\n",
       "8186998  1656623960  7688.78  7688.72  7688.78  7688.73\n",
       "8186999  1656623955  7688.92  7688.74  7688.92  7688.74\n",
       "\n",
       "[8187000 rows x 5 columns]"
      ]
     },
     "execution_count": 25,
     "metadata": {},
     "output_type": "execute_result"
    }
   ],
   "source": [
    "backup_data"
   ]
  },
  {
   "cell_type": "code",
   "execution_count": null,
   "metadata": {},
   "outputs": [],
   "source": []
  }
 ],
 "metadata": {
  "kernelspec": {
   "display_name": "Python 3",
   "language": "python",
   "name": "python3"
  },
  "language_info": {
   "codemirror_mode": {
    "name": "ipython",
    "version": 3
   },
   "file_extension": ".py",
   "mimetype": "text/x-python",
   "name": "python",
   "nbconvert_exporter": "python",
   "pygments_lexer": "ipython3",
   "version": "3.8.10"
  },
  "orig_nbformat": 4
 },
 "nbformat": 4,
 "nbformat_minor": 2
}
